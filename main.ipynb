{
 "cells": [
  {
   "cell_type": "code",
   "execution_count": null,
   "metadata": {
    "collapsed": false
   },
   "outputs": [],
   "source": [
    "import numpy as np\n",
    "import math\n",
    "from scipy.linalg import orth\n",
    "from numpy.random import rand\n",
    "from work.Optimize_W import Optimize_W\n",
    "from work.Optimize_S import Optimize_S\n",
    "from work.Optimize_alpha_k import Optimize_alpha_k\n",
    "from work.generate_graphs import generate_graphs\n",
    "from work.preprocessing import data_preprocess"
   ]
  },
  {
   "cell_type": "code",
   "execution_count": null,
   "metadata": {
    "collapsed": false
   },
   "outputs": [],
   "source": [
    "'''\n",
    "数据集url\n",
    "'''\n",
    "from work.preprocessing import preprocess_normal_std\n",
    "data_path = 'work/data/Indian_pines_corrected.mat'\n",
    "labels_path = 'work/data/Indian_pines_gt.mat'\n",
    "data_mat, labels_mat = preprocess_normal_std(data_path, labels_path)"
   ]
  },
  {
   "cell_type": "code",
   "execution_count": null,
   "metadata": {
    "collapsed": false
   },
   "outputs": [],
   "source": [
    "\n",
    "def SPCA_AMGLUSBS(data_path, labels_path, alpha, beta, gamma, d):\n",
    "    '''\n",
    "    X: 数据矩阵,论文中shape为[b,mn*mn],代码中实际为[mn*mn,b]\n",
    "    d: 选择的波段子集中包含的波段个数\n",
    "    '''\n",
    "    W = 20\n",
    "    H = 20\n",
    "    X, y = data_preprocess(data_path, labels_path, W, H)\n",
    "    \n",
    "    mn = X.shape[0]\n",
    "    n_neighbors = 20\n",
    "    b = X.shape[1]\n",
    "\n",
    "    #正则化子图Si\n",
    "    Si = generate_graphs(X, n_neighbors)\n",
    "    K = Si.shape[0]\n",
    "   \n",
    "    #初始化S\n",
    "    S = np.sum(Si, axis=0) / K\n",
    "\n",
    "    #初始化系数参数   \n",
    "    gamma = 1 / K\n",
    "    alpha_k = np.ones(K)\n",
    "    alpha_k = alpha_k / K\n",
    "    iteration = 0\n",
    "    iter_max = 5\n",
    "    W_init = orth(np.random.randn(b,d))\n",
    "\n",
    "    while iteration < iter_max:\n",
    "      \n",
    "        # update W\n",
    "        W = Optimize_W(X, W_init, S, d, alpha, beta, 1)\n",
    "\n",
    "        # update S\n",
    "        S = Optimize_S(X, W, Si, beta, gamma, alpha_k)\n",
    "       \n",
    "        # update alpha_k\n",
    "        alpha_k = Optimize_alpha_k(Si, S)\n",
    "\n",
    "        iteration = iteration + 1\n",
    "    score = np.sum(W * W, axis=1)\n",
    "    index_sorted = np.argsort(score)        #升序排列,需要逆序处理\n",
    "    index_sorted = index_sorted[-d:][::-1]  #选择后d个\n",
    "\n",
    "    return index_sorted"
   ]
  },
  {
   "cell_type": "code",
   "execution_count": null,
   "metadata": {
    "collapsed": false
   },
   "outputs": [],
   "source": [
    "# 稀疏PCA及自适应多图学习的评估\n",
    "from work.estimate import eval_band_SVM\n",
    "from work.estimate import eval_band_KNN\n",
    "acc_s = 0\n",
    "acc_k = 0\n",
    "kappa_s = 0\n",
    "kappa_k = 0\n",
    "for i in range(10):\n",
    "    #print('alpha:',alpha,'beta:',beta,'gamma:',gamma)\n",
    "    # 提高alpha降低性能，提高beta有助于提高SVM，提高gamma有助于提高KNN\n",
    "    sorted_index = SPCA_AMGLUSBS(data_path, labels_path,1,300,70,35)\n",
    " \n",
    "    # gamma不能大\n",
    "    data_mat_new, labels_mat = data_mat[:,sorted_index], labels_mat\n",
    "    num = 20\n",
    "    acc_svm = 0\n",
    "    acc_knn = 0\n",
    "    kappa_svm = 0\n",
    "    kappa_knn = 0\n",
    "    for o in range(num):\n",
    "        a, b = eval_band_SVM(data_mat_new, labels_mat)\n",
    "        c, d = eval_band_KNN(data_mat_new, labels_mat)\n",
    "        acc_svm += a\n",
    "        kappa_svm += b\n",
    "        acc_knn += c\n",
    "        kappa_knn += d\n",
    "    acc_svm /= num\n",
    "    acc_knn /= num\n",
    "    kappa_svm /= num\n",
    "    kappa_knn /= num\n",
    "    acc_s += acc_svm\n",
    "    acc_k += acc_knn\n",
    "    kappa_s += kappa_svm\n",
    "    kappa_k += kappa_knn\n",
    "    print('acc by svm:', acc_svm)\n",
    "    print('acc by knn:', acc_knn)\n",
    "    print('kappa by svm:', kappa_svm)\n",
    "    print('kappa by knn:', kappa_knn)\n",
    "print(acc_s/10)    \n",
    "print(acc_k/10)\n",
    "print(kappa_s/10)\n",
    "print(kappa_k/10)\n"
   ]
  },
  {
   "cell_type": "code",
   "execution_count": 28,
   "metadata": {
    "collapsed": false
   },
   "outputs": [],
   "source": [
    "# TRC-OC-FDPC\n",
    "# NC-OC-MVPCA\n",
    "from work.evaluate import evaluate_matlab\n",
    "from work.preprocessing import preprocess_normalize\n",
    "from work.preprocessing import preprocess_nonzero\n",
    "from work.bands.Indian_pines.TRC_OC_FDPC import Bands_TRC_OC_FDPC\n",
    "from work.bands.Indian_pines.NC_OC_MVPCA import Bands_NC_OC_MVPCA\n",
    "\n",
    "# 这两个方法数据采取正则化预处理\n",
    "data, labels = preprocess_normalize(data_path, labels_path)\n",
    "a = Bands_NC_OC_MVPCA[15]\n",
    "print(len(a))\n",
    "evaluate_matlab(a, data, labels)"
   ]
  },
  {
   "cell_type": "code",
   "execution_count": 39,
   "metadata": {
    "collapsed": false
   },
   "outputs": [],
   "source": [
    "# MVPCA\n",
    "from work.MVPCA import MVPCA\n",
    "from scipy.io import loadmat\n",
    "from work.evaluate import evaluate_python\n",
    "\n",
    "# MVPCA的数据不能正则化预处理,否则影响分类精确度\n",
    "data = loadmat(data_path)\n",
    "index = list(data)[-1]\n",
    "data = data[index]\n",
    "data = data.reshape(-1,data.shape[2])\n",
    "data = data.T\n",
    "\n",
    "d = 50\n",
    "band_index = MVPCA(data, d)\n",
    "evaluate_python(band_index,data_mat,labels_mat)"
   ]
  },
  {
   "cell_type": "code",
   "execution_count": 53,
   "metadata": {
    "collapsed": false
   },
   "outputs": [],
   "source": [
    "# ISSC\n",
    "from work.ISSC import ISSC_HSI\n",
    "from scipy.io import loadmat\n",
    "from work.estimate import eval_band_SVM\n",
    "from work.estimate import eval_band_KNN\n",
    "from work.preprocessing import preprocess_normalize\n",
    "\n",
    "# 数据预处理部分只要正则化,不需要标准化\n",
    "data, _ = preprocess_normalize(data_path, labels_path)\n",
    "model = ISSC_HSI(40)\n",
    "data_mat_new = model.predict(data)\n",
    "num = 20\n",
    "acc_svm = 0\n",
    "acc_knn = 0\n",
    "kappa_svm = 0\n",
    "kappa_knn = 0\n",
    "for i in range(num):\n",
    "       a, b = eval_band_SVM(data_mat_new, labels_mat)\n",
    "       c, d = eval_band_KNN(data_mat_new, labels_mat)\n",
    "       acc_svm += a\n",
    "       kappa_svm += b\n",
    "       acc_knn += c\n",
    "       kappa_knn += d\n",
    "acc_svm /= num\n",
    "acc_knn /= num\n",
    "kappa_svm /= num\n",
    "kappa_knn /= num\n",
    "print('acc by svm:', acc_svm)\n",
    "print('acc by knn:', acc_knn)\n",
    "print('kappa by svm:', kappa_svm)\n",
    "print('kappa by knn:', kappa_knn)"
   ]
  },
  {
   "cell_type": "code",
   "execution_count": 63,
   "metadata": {
    "collapsed": false
   },
   "outputs": [],
   "source": [
    "# SpaBS\n",
    "from work.SpaBS import SpaBS\n",
    "from work.estimate import eval_band_SVM\n",
    "from work.estimate import eval_band_KNN\n",
    "from work.preprocessing import preprocess_nonzero\n",
    "from work.preprocessing import preprocess_normalize\n",
    "\n",
    "data, _ = preprocess_normalize(data_path, labels_path)\n",
    "model = SpaBS(50)\n",
    "data_mat_new = model.predict(data)\n",
    "num = 20\n",
    "acc_svm = 0\n",
    "acc_knn = 0\n",
    "kappa_svm = 0\n",
    "kappa_knn = 0\n",
    "for i in range(num):\n",
    "       a, b = eval_band_SVM(data_mat_new, labels_mat)\n",
    "       c, d = eval_band_KNN(data_mat_new, labels_mat)\n",
    "       acc_svm += a\n",
    "       kappa_svm += b\n",
    "       acc_knn += c\n",
    "       kappa_knn += d\n",
    "acc_svm /= num\n",
    "acc_knn /= num\n",
    "kappa_svm /= num\n",
    "kappa_knn /= num\n",
    "print('acc by svm:', acc_svm)\n",
    "print('acc by knn:', acc_knn)\n",
    "print('kappa by svm:', kappa_svm)\n",
    "print('kappa by knn:', kappa_knn)"
   ]
  },
  {
   "cell_type": "code",
   "execution_count": 64,
   "metadata": {
    "collapsed": false
   },
   "outputs": [],
   "source": [
    "# all bands \n",
    "from work.estimate import eval_band_SVM\n",
    "from work.estimate import eval_band_KNN\n",
    "num = 20\n",
    "acc_svm = 0\n",
    "acc_knn = 0\n",
    "kappa_svm = 0\n",
    "kappa_knn = 0\n",
    "for i in range(num):\n",
    "       a, b = eval_band_SVM(data_mat_new, labels_mat)\n",
    "       c, d = eval_band_KNN(data_mat_new, labels_mat)\n",
    "       acc_svm += a\n",
    "       kappa_svm += b\n",
    "       acc_knn += c\n",
    "       kappa_knn += d\n",
    "acc_svm /= num\n",
    "acc_knn /= num\n",
    "kappa_svm /= num\n",
    "kappa_knn /= num\n",
    "print('acc by svm:', acc_svm)\n",
    "print('acc by knn:', acc_knn)\n",
    "print('kappa by svm:', kappa_svm)\n",
    "print('kappa by knn:', kappa_knn)"
   ]
  }
 ],
 "metadata": {
  "kernelspec": {
   "display_name": "Python 3",
   "language": "python",
   "name": "py35-paddle1.2.0"
  },
  "language_info": {
   "codemirror_mode": {
    "name": "ipython",
    "version": 3
   },
   "file_extension": ".py",
   "mimetype": "text/x-python",
   "name": "python",
   "nbconvert_exporter": "python",
   "pygments_lexer": "ipython3",
   "version": "3.7.4"
  }
 },
 "nbformat": 4,
 "nbformat_minor": 1
}
